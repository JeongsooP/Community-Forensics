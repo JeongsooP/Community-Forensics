{
 "cells": [
  {
   "cell_type": "markdown",
   "id": "778b0826",
   "metadata": {},
   "source": [
    "### Using Hugging Face repo for evaluation\n",
    "This Jupyter notebook contains example codes on how to use the Hugging Face repository for evaluating few images. For evaluating larger-scale datasets, please check out the `eval.py` script."
   ]
  },
  {
   "cell_type": "code",
   "execution_count": 1,
   "id": "77ea8e89",
   "metadata": {},
   "outputs": [],
   "source": [
    "import models\n",
    "import torch\n",
    "import PIL.Image as Image\n",
    "import dataprocessor_hf as dphf"
   ]
  },
  {
   "cell_type": "code",
   "execution_count": null,
   "id": "09824392",
   "metadata": {},
   "outputs": [],
   "source": [
    "data_processor = dphf.CommForImageProcessor.from_pretrained('https://huggingface.co/OwensLab/commfor-data-preprocessor', size=384)\n",
    "model_384 = models.ViTClassifier.from_pretrained('https://huggingface.co/OwensLab/commfor-model-384').to('cuda')"
   ]
  },
  {
   "cell_type": "code",
   "execution_count": 3,
   "id": "90faadd7",
   "metadata": {},
   "outputs": [
    {
     "name": "stdout",
     "output_type": "stream",
     "text": [
      "Results for 384-input size model:\n",
      "tensor([[0.9988],\n",
      "        [0.9878],\n",
      "        [0.9569],\n",
      "        [0.9516],\n",
      "        [0.7860]], device='cuda:0', grad_fn=<SigmoidBackward0>)\n"
     ]
    }
   ],
   "source": [
    "# These are test images from Dalle 2\n",
    "test_img = Image.open(\"00000274.png\")\n",
    "test_img2 = Image.open(\"00000420.png\")\n",
    "test_img3 = Image.open(\"00000845.png\")\n",
    "test_img4 = Image.open(\"00000916.png\")\n",
    "test_img5 = Image.open(\"00000989.png\")\n",
    "\n",
    "test_imgs = [test_img, test_img2, test_img3, test_img4, test_img5]\n",
    "input = data_processor(test_imgs, mode='test')\n",
    "out = model_384(input['pixel_values'].to('cuda'))\n",
    "results = torch.sigmoid(out)\n",
    "\n",
    "print(\"Results for 384-input size model:\")\n",
    "print(results)"
   ]
  }
 ],
 "metadata": {
  "kernelspec": {
   "display_name": "pt271",
   "language": "python",
   "name": "python3"
  },
  "language_info": {
   "codemirror_mode": {
    "name": "ipython",
    "version": 3
   },
   "file_extension": ".py",
   "mimetype": "text/x-python",
   "name": "python",
   "nbconvert_exporter": "python",
   "pygments_lexer": "ipython3",
   "version": "3.13.3"
  }
 },
 "nbformat": 4,
 "nbformat_minor": 5
}
